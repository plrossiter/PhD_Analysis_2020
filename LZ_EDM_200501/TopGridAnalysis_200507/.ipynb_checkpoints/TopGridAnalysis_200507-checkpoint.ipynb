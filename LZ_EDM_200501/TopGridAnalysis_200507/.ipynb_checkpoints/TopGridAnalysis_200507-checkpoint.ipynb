{
 "cells": [
  {
   "cell_type": "code",
   "execution_count": 2,
   "metadata": {},
   "outputs": [],
   "source": [
    "#Visualise Drift lines"
   ]
  },
  {
   "cell_type": "code",
   "execution_count": 3,
   "metadata": {},
   "outputs": [
    {
     "name": "stdout",
     "output_type": "stream",
     "text": [
      "Welcome to JupyROOT 6.16/00\n",
      "Populating the interactive namespace from numpy and matplotlib\n",
      "Starting notebook....\n"
     ]
    },
    {
     "name": "stderr",
     "output_type": "stream",
     "text": [
      "/cvmfs/sft.cern.ch/lcg/views/LCG_95/x86_64-centos7-gcc8-opt/lib/python2.7/site-packages/IPython/core/magics/pylab.py:161: UserWarning: pylab import has clobbered these variables: ['pylab']\n",
      "`%matplotlib` prevents importing * from pylab and numpy\n",
      "  \"\\n`%matplotlib` prevents importing * from pylab and numpy\"\n"
     ]
    }
   ],
   "source": [
    "\n",
    "#INITIALIZION\n",
    "#Kernel PyROOT\n",
    "import os\n",
    "#os.sys.path.append('/usr/common/software/rootpy')\n",
    "#os.sys.path.insert(0,'/usr/common/software/uproot')\n",
    "#import root_numpy\n",
    "#import root_numpy as root_np\n",
    "import numpy as np\n",
    "import matplotlib.pyplot as plt\n",
    "import matplotlib\n",
    "#matplotlib.use('GTK3Agg')\n",
    "import ROOT\n",
    "import pandas as pd\n",
    "from scipy.optimize import curve_fit\n",
    "\n",
    "import sys\n",
    "from matplotlib.colors import LogNorm\n",
    "import pylab\n",
    "\n",
    "import glob\n",
    "import uproot\n",
    "\n",
    "import scipy\n",
    "from scipy.optimize import curve_fit\n",
    "\n",
    "%pylab inline\n",
    "#pylab.rcParams['figure.figsize'] = (10.0, 8.0)\n",
    "\n",
    "%matplotlib inline\n",
    "matplotlib.rcParams['figure.figsize'] = (10.0, 8.0)\n",
    "\n",
    "print(\"Starting notebook....\")\n",
    "\n",
    "\n",
    "\n"
   ]
  },
  {
   "cell_type": "code",
   "execution_count": 4,
   "metadata": {},
   "outputs": [
    {
     "name": "stdout",
     "output_type": "stream",
     "text": [
      "\n",
      "\t...Done!\n"
     ]
    }
   ],
   "source": [
    "#Function to turn file into arrays\n",
    "def Get_drift_line_arrays(filename):\n",
    "    file = open(filename, 'r')\n",
    "    lines = file.readlines()\n",
    "\n",
    "    #print len(lines)\n",
    "    #print lines[2]\n",
    "\n",
    "    rIN_cm = float(lines[10].split('\\t\\t')[0])\n",
    "    zIN_cm = float(lines[10].split('\\t\\t')[1])\n",
    "\n",
    "    DriftTime_us_list = []\n",
    "    r_cm_list = []\n",
    "    z_cm_list = []\n",
    "\n",
    "    DriftTime_us_list.append(0.0)\n",
    "    r_cm_list.append(rIN_cm)\n",
    "    z_cm_list.append(zIN_cm)\n",
    "\n",
    "    for i in range(0,len(lines)):\n",
    "        if lines[i].startswith('#'):\n",
    "            continue\n",
    "        else:\n",
    "            a = lines[i].split('\\t\\t')\n",
    "            #print a\n",
    "            DriftTime_us_list.append(float(a[2]))\n",
    "            r_cm_list.append(float(a[3]))\n",
    "            z_cm_list.append(float(a[4]))\n",
    "    return np.asarray(r_cm_list), np.asarray(z_cm_list), np.asarray(DriftTime_us_list)\n",
    "\n",
    "def Get_file_length(filename):\n",
    "    file = open(filename, 'r')\n",
    "    lines = file.readlines()\n",
    "    return len(lines)\n",
    "\n",
    "\n",
    "def Get_i_line_from_file(filename, i):\n",
    "    file = open(filename, 'r')\n",
    "    lines = file.readlines()\n",
    "    a = lines[i].split('\\t\\t')\n",
    "    DriftTime_us= float(a[2])\n",
    "    r_cm = float(a[3])\n",
    "    z_cm = float(a[4])\n",
    "    return r_cm, z_cm, DriftTime_us\n",
    "\n",
    "\n",
    "print \"\\n\\t...Done!\""
   ]
  },
  {
   "cell_type": "code",
   "execution_count": 5,
   "metadata": {},
   "outputs": [
    {
     "name": "stdout",
     "output_type": "stream",
     "text": [
      "SingleDriftLineCalc_0.0001cm_r00cm_z144.9cm_0507.txt\n",
      "SingleDriftLineCalc_0.0001cm_r00.18cm_z144.9cm_0507.txt\n",
      "SingleDriftLineCalc_0.0001cm_r00.19cm_z144.9cm_0507.txt\n",
      "SingleDriftLineCalc_0.0001cm_r00.00cm_z144.9cm_0507.txt\n",
      "SingleDriftLineCalc_0.0001cm_r00.01cm_z144.9cm_0507.txt\n",
      "SingleDriftLineCalc_0.0001cm_r00.02cm_z144.9cm_0507.txt\n",
      "SingleDriftLineCalc_0.0001cm_r00.03cm_z144.9cm_0507.txt\n",
      "SingleDriftLineCalc_0.0001cm_r00.04cm_z144.9cm_0507.txt\n",
      "SingleDriftLineCalc_0.0001cm_r00.05cm_z144.9cm_0507.txt\n",
      "SingleDriftLineCalc_0.0001cm_r00.06cm_z144.9cm_0507.txt\n",
      "SingleDriftLineCalc_0.0001cm_r00.07cm_z144.9cm_0507.txt\n",
      "SingleDriftLineCalc_0.0001cm_r00.08cm_z144.9cm_0507.txt\n",
      "SingleDriftLineCalc_0.0001cm_r00.09cm_z144.9cm_0507.txt\n",
      "SingleDriftLineCalc_0.0001cm_r00.10cm_z144.9cm_0507.txt\n",
      "SingleDriftLineCalc_0.0001cm_r00.11cm_z144.9cm_0507.txt\n",
      "SingleDriftLineCalc_0.0001cm_r00.12cm_z144.9cm_0507.txt\n",
      "SingleDriftLineCalc_0.0001cm_r00.13cm_z144.9cm_0507.txt\n",
      "SingleDriftLineCalc_0.0001cm_r00.14cm_z144.9cm_0507.txt\n"
     ]
    }
   ],
   "source": [
    "#Get all txt files in directory\n",
    "data_dir = \"/data/rossiter/lz/TopGridAnalysis_200507/\"\n",
    "file_list=[]\n",
    "for file in os.listdir(data_dir):\n",
    "    if file.endswith(\".txt\"):\n",
    "        print(os.path.join(file))\n",
    "        file_list.append(data_dir+os.path.join(file))"
   ]
  },
  {
   "cell_type": "code",
   "execution_count": 9,
   "metadata": {},
   "outputs": [
    {
     "data": {
      "text/plain": [
       "<matplotlib.legend.Legend at 0x7fd831b70e90>"
      ]
     },
     "execution_count": 9,
     "metadata": {},
     "output_type": "execute_result"
    },
    {
     "data": {
      "image/png": "[encoded data removed]",
      "text/plain": [
       "<Figure size 432x288 with 1 Axes>"
      ]
     },
     "metadata": {},
     "output_type": "display_data"
    }
   ],
   "source": [
    "#Simple plot\n",
    "#pop=-2\n",
    "filename=\"/data/rossiter/lz/TopGridAnalysis_200507/SingleDriftLineCalc_0.0001cm_r00.18cm_z144.9cm_0507.txt\"\n",
    "r_cm_array, z_cm_array, DriftTime_us_array = Get_drift_line_arrays(filename)\n",
    "plt.plot(r_cm_array, z_cm_array, '-k', label='Drift lines')\n",
    "\n",
    "filename=\"/data/rossiter/lz/TopGridAnalysis_200507/SingleDriftLineCalc_0.0001cm_r00.19cm_z144.9cm_0507.txt\"\n",
    "r_cm_array, z_cm_array, DriftTime_us_array = Get_drift_line_arrays(filename)\n",
    "plt.plot(r_cm_array, z_cm_array, '-k')\n",
    "\n",
    "plt.xlabel('R [cm]',fontsize=18,family='serif')\n",
    "plt.ylabel('Z [cm]',fontsize=18,family='serif')\n",
    "\n",
    "plt.xticks(fontsize=14)\n",
    "plt.yticks(fontsize=14)\n",
    "\n",
    "#plt.xlim(29.8,30.2)\n",
    "plt.ylim(145,146.1)\n",
    "plt.legend(loc='best')\n",
    "\n"
   ]
  },
  {
   "cell_type": "code",
   "execution_count": null,
   "metadata": {},
   "outputs": [],
   "source": [
    "#\n",
    "#pop=-2\n",
    "\n",
    "figure(1)\n",
    "for i in range(0, len(file_list)):\n",
    "    r_cm_array, z_cm_array, DriftTime_us_array = Get_drift_line_arrays(file_list[i])\n",
    "    #print file_list[i]\n",
    "    #print Diff_z_cm_array[-1]\n",
    "    \n",
    "    if file_list[i].startswith('SingleDriftLineCalc'):\n",
    "        plt.plot(r_cm_array[:pop], z_cm_array[:pop], '-k', linewidth=3, label='Drift line')\n",
    "    else:\n",
    "        plt.plot(r_cm_array, z_cm_array, '-', label='Diffusion line')\n",
    "        \n",
    "\n",
    "#filename=\"SingleDriftLineCalc_.5cm_r30cm_z01cm_0504.txt\"\n",
    "r_cm_array, z_cm_array, DriftTime_us_array = Get_drift_line_arrays(filename)\n",
    "plt.plot(r_cm_array[:pop], z_cm_array[:pop], '-k', linewidth=3, label='Drift line')\n",
    "\n",
    "plt.xlabel('R [cm]',fontsize=18,family='serif')\n",
    "plt.ylabel('Z [cm]',fontsize=18,family='serif')\n",
    "\n",
    "plt.xticks(fontsize=14)\n",
    "plt.yticks(fontsize=14)\n",
    "#pylab.legend(loc='best', fontsize=12)\n",
    "\n",
    "plt.ylim(0, 150)\n",
    "plt.xlim(29,31)\n",
    "\n",
    "print len(file_list)"
   ]
  }
 ],
 "metadata": {
  "kernelspec": {
   "display_name": "Python 2",
   "language": "python",
   "name": "python2"
  },
  "language_info": {
   "codemirror_mode": {
    "name": "ipython",
    "version": 2
   },
   "file_extension": ".py",
   "mimetype": "text/x-python",
   "name": "python",
   "nbconvert_exporter": "python",
   "pygments_lexer": "ipython2",
   "version": "2.7.15"
  }
 },
 "nbformat": 4,
 "nbformat_minor": 2
}
