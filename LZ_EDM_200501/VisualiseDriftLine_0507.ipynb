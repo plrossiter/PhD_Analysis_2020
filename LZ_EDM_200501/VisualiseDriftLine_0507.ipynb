{
 "cells": [
  {
   "cell_type": "code",
   "execution_count": 1,
   "metadata": {},
   "outputs": [],
   "source": [
    "#Visualise Drift lines"
   ]
  },
  {
   "cell_type": "code",
   "execution_count": 2,
   "metadata": {},
   "outputs": [
    {
     "name": "stdout",
     "output_type": "stream",
     "text": [
      "Welcome to JupyROOT 6.16/00\n",
      "Populating the interactive namespace from numpy and matplotlib\n",
      "Starting notebook....\n"
     ]
    },
    {
     "name": "stderr",
     "output_type": "stream",
     "text": [
      "/cvmfs/sft.cern.ch/lcg/views/LCG_95/x86_64-centos7-gcc8-opt/lib/python2.7/site-packages/IPython/core/magics/pylab.py:161: UserWarning: pylab import has clobbered these variables: ['pylab']\n",
      "`%matplotlib` prevents importing * from pylab and numpy\n",
      "  \"\\n`%matplotlib` prevents importing * from pylab and numpy\"\n"
     ]
    }
   ],
   "source": [
    "\n",
    "#INITIALIZION\n",
    "#Kernel PyROOT\n",
    "import os\n",
    "#os.sys.path.append('/usr/common/software/rootpy')\n",
    "#os.sys.path.insert(0,'/usr/common/software/uproot')\n",
    "#import root_numpy\n",
    "#import root_numpy as root_np\n",
    "import numpy as np\n",
    "import matplotlib.pyplot as plt\n",
    "import matplotlib\n",
    "#matplotlib.use('GTK3Agg')\n",
    "import ROOT\n",
    "import pandas as pd\n",
    "from scipy.optimize import curve_fit\n",
    "\n",
    "import sys\n",
    "from matplotlib.colors import LogNorm\n",
    "import pylab\n",
    "\n",
    "import glob\n",
    "import uproot\n",
    "\n",
    "import scipy\n",
    "from scipy.optimize import curve_fit\n",
    "\n",
    "%pylab inline\n",
    "#pylab.rcParams['figure.figsize'] = (10.0, 8.0)\n",
    "\n",
    "%matplotlib inline\n",
    "matplotlib.rcParams['figure.figsize'] = (10.0, 8.0)\n",
    "\n",
    "print(\"Starting notebook....\")\n",
    "\n",
    "\n",
    "\n"
   ]
  },
  {
   "cell_type": "code",
   "execution_count": 3,
   "metadata": {},
   "outputs": [
    {
     "name": "stdout",
     "output_type": "stream",
     "text": [
      "\n",
      "\t...Done!\n"
     ]
    }
   ],
   "source": [
    "#Function to turn file into arrays\n",
    "def Get_drift_line_arrays(filename):\n",
    "    file = open(filename, 'r')\n",
    "    lines = file.readlines()\n",
    "\n",
    "    #print len(lines)\n",
    "    #print lines[2]\n",
    "\n",
    "    rIN_cm = float(lines[10].split('\\t\\t')[0])\n",
    "    zIN_cm = float(lines[10].split('\\t\\t')[1])\n",
    "\n",
    "    DriftTime_us_list = []\n",
    "    r_cm_list = []\n",
    "    z_cm_list = []\n",
    "\n",
    "    DriftTime_us_list.append(0.0)\n",
    "    r_cm_list.append(rIN_cm)\n",
    "    z_cm_list.append(zIN_cm)\n",
    "\n",
    "    for i in range(0,len(lines)):\n",
    "        if lines[i].startswith('#'):\n",
    "            continue\n",
    "        elif lines[i].startswith('*'):\n",
    "            print lines[i]\n",
    "        elif lines[i].startswith('0') or lines[i].startswith('1') or lines[i].startswith('2')\\\n",
    "        or lines[i].startswith('3') or lines[i].startswith('4') or lines[i].startswith('5')\\\n",
    "        or lines[i].startswith('6') or lines[i].startswith('7') or lines[i].startswith('8')\\\n",
    "        or lines[i].startswith('9'):\n",
    "            a = lines[i].split('\\t\\t')\n",
    "            #print a\n",
    "            DriftTime_us_list.append(float(a[2]))\n",
    "            r_cm_list.append(float(a[3]))\n",
    "            z_cm_list.append(float(a[4]))\n",
    "        else:\n",
    "            continue\n",
    "    return np.asarray(r_cm_list), np.asarray(z_cm_list), np.asarray(DriftTime_us_list)\n",
    "\n",
    "\n",
    "def Get_file_length(filename):\n",
    "    file = open(filename, 'r')\n",
    "    lines = file.readlines()\n",
    "    return len(lines)\n",
    "\n",
    "\n",
    "def Get_i_line_from_file(filename, i):\n",
    "    file = open(filename, 'r')\n",
    "    lines = file.readlines()\n",
    "    a = lines[i].split('\\t\\t')\n",
    "    DriftTime_us= float(a[2])\n",
    "    r_cm = float(a[3])\n",
    "    z_cm = float(a[4])\n",
    "    return r_cm, z_cm, DriftTime_us\n",
    "\n",
    "\n",
    "print \"\\n\\t...Done!\""
   ]
  },
  {
   "cell_type": "code",
   "execution_count": 7,
   "metadata": {},
   "outputs": [
    {
     "name": "stdout",
     "output_type": "stream",
     "text": [
      "**IF TIME ELAPSED\n",
      "\n"
     ]
    },
    {
     "data": {
      "text/plain": [
       "<matplotlib.legend.Legend at 0x7f8b7a11acd0>"
      ]
     },
     "execution_count": 7,
     "metadata": {},
     "output_type": "execute_result"
    },
    {
     "data": {
      "image/png": "[encoded data removed]",
      "text/plain": [
       "<Figure size 432x288 with 1 Axes>"
      ]
     },
     "metadata": {},
     "output_type": "display_data"
    }
   ],
   "source": [
    "\n",
    "#pop=-2\n",
    "filename=\"SingleDriftLineCalc_TimeStep_0.1us_r72.5cm_z51.0cm_0824.txt\"\n",
    "#\"/home/rossiter/LZ_EDM_200501/DiffusionAnalysis_0505/SingleDriftLineCalc_.5cm_r26.25cm_z02.0cm_0504.txt\"\n",
    "r_cm_array, z_cm_array, DriftTime_us_array = Get_drift_line_arrays(filename)\n",
    "#plt.plot(r_cm_array, z_cm_array, '.k', label='Drift line')\n",
    "plt.plot(r_cm_array, z_cm_array, '-k')\n",
    "\n",
    "plt.xlabel('R [cm]',fontsize=18,family='serif')\n",
    "plt.ylabel('Z [cm]',fontsize=18,family='serif')\n",
    "\n",
    "plt.xticks(fontsize=14)\n",
    "plt.yticks(fontsize=14)\n",
    "\n",
    "#plt.xlim(29.8,30.2)\n",
    "#plt.ylim(144,146.2)\n",
    "plt.legend(loc='best')\n",
    "\n"
   ]
  },
  {
   "cell_type": "code",
   "execution_count": 5,
   "metadata": {},
   "outputs": [
    {
     "data": {
      "text/plain": [
       "'\\n./eDriftCalc/SingleDriftLineCalc_exe 8.75 2 0507 .5 .\\n./eDriftCalc/SingleDriftLineCalc_exe 17.5 2 0507 .5 .\\n./eDriftCalc/SingleDriftLineCalc_exe 26.25 2 0507 .5 .\\n./eDriftCalc/SingleDriftLineCalc_exe 35 2 0507 .5 .\\n./eDriftCalc/SingleDriftLineCalc_exe 43.75 2 0507 .5 .\\n'"
      ]
     },
     "execution_count": 5,
     "metadata": {},
     "output_type": "execute_result"
    }
   ],
   "source": [
    "\"\"\"\n",
    "./eDriftCalc/SingleDriftLineCalc_exe 8.75 2 0507 .5 .\n",
    "./eDriftCalc/SingleDriftLineCalc_exe 17.5 2 0507 .5 .\n",
    "./eDriftCalc/SingleDriftLineCalc_exe 26.25 2 0507 .5 .\n",
    "./eDriftCalc/SingleDriftLineCalc_exe 35 2 0507 .5 .\n",
    "./eDriftCalc/SingleDriftLineCalc_exe 43.75 2 0507 .5 .\n",
    "\"\"\""
   ]
  },
  {
   "cell_type": "code",
   "execution_count": null,
   "metadata": {},
   "outputs": [],
   "source": []
  },
  {
   "cell_type": "code",
   "execution_count": null,
   "metadata": {},
   "outputs": [],
   "source": []
  },
  {
   "cell_type": "code",
   "execution_count": null,
   "metadata": {},
   "outputs": [],
   "source": []
  }
 ],
 "metadata": {
  "kernelspec": {
   "display_name": "Python 2",
   "language": "python",
   "name": "python2"
  },
  "language_info": {
   "codemirror_mode": {
    "name": "ipython",
    "version": 2
   },
   "file_extension": ".py",
   "mimetype": "text/x-python",
   "name": "python",
   "nbconvert_exporter": "python",
   "pygments_lexer": "ipython2",
   "version": "2.7.15"
  }
 },
 "nbformat": 4,
 "nbformat_minor": 2
}
